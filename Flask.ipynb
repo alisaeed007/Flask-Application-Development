{
 "cells": [
  {
   "cell_type": "code",
   "execution_count": 1,
   "id": "99964e13",
   "metadata": {},
   "outputs": [
    {
     "name": "stdout",
     "output_type": "stream",
     "text": [
      "Requirement already satisfied: flask in c:\\users\\ali.saeed\\appdata\\local\\anaconda3\\lib\\site-packages (2.2.2)\n",
      "Requirement already satisfied: Jinja2>=3.0 in c:\\users\\ali.saeed\\appdata\\local\\anaconda3\\lib\\site-packages (from flask) (3.1.2)\n",
      "Requirement already satisfied: Werkzeug>=2.2.2 in c:\\users\\ali.saeed\\appdata\\local\\anaconda3\\lib\\site-packages (from flask) (2.2.2)\n",
      "Requirement already satisfied: itsdangerous>=2.0 in c:\\users\\ali.saeed\\appdata\\local\\anaconda3\\lib\\site-packages (from flask) (2.0.1)\n",
      "Requirement already satisfied: click>=8.0 in c:\\users\\ali.saeed\\appdata\\local\\anaconda3\\lib\\site-packages (from flask) (8.0.4)\n",
      "Requirement already satisfied: colorama in c:\\users\\ali.saeed\\appdata\\local\\anaconda3\\lib\\site-packages (from click>=8.0->flask) (0.4.6)\n",
      "Requirement already satisfied: MarkupSafe>=2.0 in c:\\users\\ali.saeed\\appdata\\local\\anaconda3\\lib\\site-packages (from Jinja2>=3.0->flask) (2.1.1)\n"
     ]
    }
   ],
   "source": [
    "!pip install flask"
   ]
  },
  {
   "cell_type": "code",
   "execution_count": null,
   "id": "fea1232f",
   "metadata": {},
   "outputs": [
    {
     "name": "stdout",
     "output_type": "stream",
     "text": [
      " * Serving Flask app '__main__'\n",
      " * Debug mode: off\n"
     ]
    },
    {
     "name": "stderr",
     "output_type": "stream",
     "text": [
      "WARNING: This is a development server. Do not use it in a production deployment. Use a production WSGI server instead.\n",
      " * Running on http://127.0.0.1:5000\n",
      "Press CTRL+C to quit\n",
      "127.0.0.1 - - [09/Jun/2023 15:09:18] \"GET / HTTP/1.1\" 200 -\n",
      "127.0.0.1 - - [09/Jun/2023 15:09:19] \"GET /cart.json HTTP/1.1\" 404 -\n",
      "127.0.0.1 - - [09/Jun/2023 15:09:19] \"GET /favicon.ico HTTP/1.1\" 404 -\n"
     ]
    }
   ],
   "source": [
    "# Simple Flask Application\n",
    "from flask import Flask\n",
    "\n",
    "app = Flask(__name__)\n",
    "\n",
    "@app.route('/')\n",
    "def index():\n",
    "    return \"Hello this is an index page\"\n",
    "\n",
    "app.run()"
   ]
  },
  {
   "cell_type": "code",
   "execution_count": null,
   "id": "0fc02418",
   "metadata": {},
   "outputs": [
    {
     "name": "stdout",
     "output_type": "stream",
     "text": [
      " * Serving Flask app '__main__'\n",
      " * Debug mode: off\n"
     ]
    },
    {
     "name": "stderr",
     "output_type": "stream",
     "text": [
      "WARNING: This is a development server. Do not use it in a production deployment. Use a production WSGI server instead.\n",
      " * Running on http://127.0.0.1:5000\n",
      "Press CTRL+C to quit\n",
      "127.0.0.1 - - [09/Jun/2023 15:11:29] \"GET / HTTP/1.1\" 200 -\n",
      "127.0.0.1 - - [09/Jun/2023 15:11:30] \"GET /cart.json HTTP/1.1\" 404 -\n",
      "127.0.0.1 - - [09/Jun/2023 15:11:37] \"GET /%20about HTTP/1.1\" 404 -\n",
      "127.0.0.1 - - [09/Jun/2023 15:11:37] \"GET /cart.json HTTP/1.1\" 404 -\n",
      "127.0.0.1 - - [09/Jun/2023 15:11:43] \"GET /about HTTP/1.1\" 200 -\n",
      "127.0.0.1 - - [09/Jun/2023 15:11:44] \"GET /cart.json HTTP/1.1\" 404 -\n"
     ]
    }
   ],
   "source": [
    "# Flask Application with multiple routes\n",
    "from flask import Flask\n",
    "\n",
    "app = Flask(__name__)\n",
    "\n",
    "@app.route('/')\n",
    "def index():\n",
    "    return \"Hello this is an index page\"\n",
    "\n",
    "@app.route('/about')\n",
    "def about():\n",
    "    return \"Hello this is an index page\"\n",
    "\n",
    "@app.route('/contact')\n",
    "def contact():\n",
    "    return \"Hello this is an index page\"\n",
    "\n",
    "\n",
    "app.run()"
   ]
  },
  {
   "cell_type": "code",
   "execution_count": null,
   "id": "05ae16ff",
   "metadata": {},
   "outputs": [
    {
     "name": "stdout",
     "output_type": "stream",
     "text": [
      " * Serving Flask app '__main__'\n",
      " * Debug mode: off\n"
     ]
    },
    {
     "name": "stderr",
     "output_type": "stream",
     "text": [
      "WARNING: This is a development server. Do not use it in a production deployment. Use a production WSGI server instead.\n",
      " * Running on http://127.0.0.1:5000\n",
      "Press CTRL+C to quit\n",
      "127.0.0.1 - - [09/Jun/2023 15:17:10] \"GET / HTTP/1.1\" 200 -\n",
      "127.0.0.1 - - [09/Jun/2023 15:17:10] \"GET /cart.json HTTP/1.1\" 404 -\n"
     ]
    }
   ],
   "source": [
    "# A Flask Application with a template\n",
    "from flask import Flask, render_template\n",
    "\n",
    "app = Flask(__name__, template_folder='template')\n",
    "\n",
    "@app.route('/')\n",
    "def index():\n",
    "    return render_template(\"name1.html\")\n",
    "\n",
    "app.run()"
   ]
  },
  {
   "cell_type": "code",
   "execution_count": null,
   "id": "2a3ad708",
   "metadata": {},
   "outputs": [
    {
     "name": "stdout",
     "output_type": "stream",
     "text": [
      " * Serving Flask app '__main__'\n",
      " * Debug mode: off\n"
     ]
    },
    {
     "name": "stderr",
     "output_type": "stream",
     "text": [
      "WARNING: This is a development server. Do not use it in a production deployment. Use a production WSGI server instead.\n",
      " * Running on http://127.0.0.1:5000\n",
      "Press CTRL+C to quit\n",
      "127.0.0.1 - - [09/Jun/2023 15:21:18] \"GET / HTTP/1.1\" 200 -\n",
      "127.0.0.1 - - [09/Jun/2023 15:21:19] \"GET /cart.json HTTP/1.1\" 404 -\n",
      "127.0.0.1 - - [09/Jun/2023 15:21:29] \"GET /about HTTP/1.1\" 404 -\n",
      "127.0.0.1 - - [09/Jun/2023 15:21:29] \"GET /cart.json HTTP/1.1\" 404 -\n",
      "127.0.0.1 - - [09/Jun/2023 15:21:36] \"GET /about/100 HTTP/1.1\" 200 -\n",
      "127.0.0.1 - - [09/Jun/2023 15:21:36] \"GET /cart.json HTTP/1.1\" 404 -\n"
     ]
    }
   ],
   "source": [
    "# An Flask Application with an query string\n",
    "from flask import Flask, render_template\n",
    "\n",
    "app = Flask(__name__, template_folder='template')\n",
    "\n",
    "@app.route('/')\n",
    "def index():\n",
    "    return \"This is index page\"\n",
    "\n",
    "@app.route('/about/<id>')\n",
    "def about2(id):\n",
    "    return \"id is \"+ str(id)\n",
    "\n",
    "app.run()"
   ]
  },
  {
   "cell_type": "code",
   "execution_count": null,
   "id": "fc065b15",
   "metadata": {},
   "outputs": [
    {
     "name": "stdout",
     "output_type": "stream",
     "text": [
      " * Serving Flask app '__main__'\n",
      " * Debug mode: off\n"
     ]
    },
    {
     "name": "stderr",
     "output_type": "stream",
     "text": [
      "WARNING: This is a development server. Do not use it in a production deployment. Use a production WSGI server instead.\n",
      " * Running on all addresses (0.0.0.0)\n",
      " * Running on http://127.0.0.1:81\n",
      " * Running on http://10.8.34.3:81\n",
      "Press CTRL+C to quit\n",
      "127.0.0.1 - - [09/Jun/2023 15:26:59] \"GET / HTTP/1.1\" 200 -\n",
      "127.0.0.1 - - [09/Jun/2023 15:27:00] \"GET /cart.json HTTP/1.1\" 404 -\n",
      "127.0.0.1 - - [09/Jun/2023 15:27:15] \"GET /name HTTP/1.1\" 200 -\n",
      "127.0.0.1 - - [09/Jun/2023 15:27:15] \"GET /cart.json HTTP/1.1\" 404 -\n",
      "127.0.0.1 - - [09/Jun/2023 15:27:27] \"POST /name HTTP/1.1\" 200 -\n",
      "127.0.0.1 - - [09/Jun/2023 15:27:27] \"GET /cart.json HTTP/1.1\" 404 -\n",
      "127.0.0.1 - - [09/Jun/2023 15:29:08] \"GET /name HTTP/1.1\" 200 -\n",
      "127.0.0.1 - - [09/Jun/2023 15:29:08] \"GET /cart.json HTTP/1.1\" 404 -\n",
      "127.0.0.1 - - [09/Jun/2023 15:29:10] \"POST /name HTTP/1.1\" 200 -\n",
      "127.0.0.1 - - [09/Jun/2023 15:29:10] \"GET /cart.json HTTP/1.1\" 404 -\n",
      "127.0.0.1 - - [09/Jun/2023 15:29:11] \"GET /name HTTP/1.1\" 200 -\n",
      "127.0.0.1 - - [09/Jun/2023 15:29:12] \"GET /cart.json HTTP/1.1\" 404 -\n",
      "127.0.0.1 - - [09/Jun/2023 15:29:55] \"POST /name HTTP/1.1\" 200 -\n",
      "127.0.0.1 - - [09/Jun/2023 15:29:55] \"GET /cart.json HTTP/1.1\" 404 -\n"
     ]
    }
   ],
   "source": [
    "#Form input and form output\n",
    "\n",
    "from flask import Flask, render_template, request\n",
    "\n",
    "app = Flask(__name__, template_folder='template')\n",
    "\n",
    "@app.route('/')\n",
    "def index():\n",
    "    return \"This is index page\"\n",
    "\n",
    "@app.route('/name', methods=['GET', 'POST'])\n",
    "def name():\n",
    "    if request.method == 'POST':\n",
    "        # if form is submitted this code will be executed\n",
    "        name = request.form.get('name')\n",
    "        email = request.form.get('email')\n",
    "        return render_template(\"name2.html\", name=name, email=email)\n",
    "    else:\n",
    "        # if only visited\n",
    "        return render_template(\"name1.html\")\n",
    "\n",
    "app.run(host='0.0.0.0', port=81)"
   ]
  }
 ],
 "metadata": {
  "kernelspec": {
   "display_name": "Python 3 (ipykernel)",
   "language": "python",
   "name": "python3"
  },
  "language_info": {
   "codemirror_mode": {
    "name": "ipython",
    "version": 3
   },
   "file_extension": ".py",
   "mimetype": "text/x-python",
   "name": "python",
   "nbconvert_exporter": "python",
   "pygments_lexer": "ipython3",
   "version": "3.10.9"
  }
 },
 "nbformat": 4,
 "nbformat_minor": 5
}
